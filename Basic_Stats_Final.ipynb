{
  "nbformat": 4,
  "nbformat_minor": 0,
  "metadata": {
    "colab": {
      "name": "AmeliorMate Basic Statistics.ipynb",
      "provenance": [],
      "collapsed_sections": [],
      "include_colab_link": true
    },
    "kernelspec": {
      "name": "python3",
      "display_name": "Python 3"
    }
  },
  "cells": [
    {
      "cell_type": "markdown",
      "metadata": {
        "id": "view-in-github",
        "colab_type": "text"
      },
      "source": [
        "<a href=\"https://colab.research.google.com/github/worldwidekatie/basic_stats/blob/master/Basic_Stats_Final.ipynb\" target=\"_parent\"><img src=\"https://colab.research.google.com/assets/colab-badge.svg\" alt=\"Open In Colab\"/></a>"
      ]
    },
    {
      "cell_type": "markdown",
      "metadata": {
        "id": "yWQHaovZs_hf",
        "colab_type": "text"
      },
      "source": [
        "![alt text](https://docs.google.com/drawings/d/e/2PACX-1vS4FTC09V3OsgPrg_pBRGPEO9q4FohcGPImvN8GNcVUVy0z4SBFtUigQURgAzv8ztZzHI96UOMsWWKl/pub?w=75&h=74)\n",
        "\n",
        "[AmeliorMate.com](https://www.AmeliorMate.com)\n",
        "\n",
        "# **Basic Statistics**\n",
        "\n",
        "The purpose of this notebook is to provide academics without access to their normal statistical software a low-code option for running their most basic and popular statistical tests. The notebook includes instructions for running:\n",
        "- T-Tests\n",
        "-Linear Regression\n",
        "-Chi^2\n",
        "\n",
        "## **How to Get Started with this Notebook:**\n",
        "\n",
        "### Start by making your own copy of the notebook by going to File -> Save a copy in drive...\n",
        "\n",
        "## **How to Upload Your csv file**\n",
        "\n",
        "### 1. Run CELL #1 by pushing the play button that appears when you hover over the [ ] in the upper left-hand corner.\n",
        "\n",
        "### 2. Click the \"Choose Files\" or \"Browse\" button (which appears after you've hit the \"play\" button) and choose the csv you want to upload from your computer."
      ]
    },
    {
      "cell_type": "code",
      "metadata": {
        "id": "pqnA3OV_s7Oi",
        "colab_type": "code",
        "colab": {}
      },
      "source": [
        "# CELL 1\n",
        "import pandas as pd\n",
        "import numpy as np\n",
        "from scipy import stats\n",
        "from sklearn.linear_model import LinearRegression\n",
        "from sklearn.metrics import mean_absolute_error, mean_squared_error, r2_score\n",
        "import plotly.express as px\n",
        "from google.colab import files\n",
        "files.upload()"
      ],
      "execution_count": 0,
      "outputs": []
    },
    {
      "cell_type": "markdown",
      "metadata": {
        "id": "I-Fcp-x8D9ZD",
        "colab_type": "text"
      },
      "source": [
        "### 3. Copy and paste the name of your csv inside the parentheses  in CELL #2 then run CELL #2. \n",
        "\n",
        "**NOTE** It is important to use a csv that already has headers. The following tests will not work if your csv does not already have headers. If your file has loaded correctly, you will see the headers and the first few rows below CELL #2 once you've run it."
      ]
    },
    {
      "cell_type": "code",
      "metadata": {
        "id": "jesALKELy5GN",
        "colab_type": "code",
        "colab": {}
      },
      "source": [
        "# CELL 2\n",
        "df = pd.read_csv('YOUR_CSV_NAME_HERE.csv')\n",
        "df.head()"
      ],
      "execution_count": 0,
      "outputs": []
    },
    {
      "cell_type": "markdown",
      "metadata": {
        "id": "OO5EIfkuwGqs",
        "colab_type": "text"
      },
      "source": [
        "# How to run t-tests:\n",
        "**NOTE: Make sure every column (except the column for your dependent variable) contains only numeric values or it will not work.**\n",
        "### 1. Run CELL #3 then go to the step #2.\n",
        "(It will seem like nothing happened when you ran CELL #3 but don't worry, important things happened behind the scenes. If there's a number where there was previously a blank [   ], you know it ran correctly).\n"
      ]
    },
    {
      "cell_type": "code",
      "metadata": {
        "id": "d7cRJHUA55H4",
        "colab_type": "code",
        "colab": {}
      },
      "source": [
        "# CELL 3\n",
        "def t_test(dataframe, column, group_a, group_b):\n",
        "  groupaa = dataframe[dataframe[column]==group_a]\n",
        "  groupa = groupaa.drop(columns=[column])\n",
        "  groupbb = dataframe[dataframe[column]==group_b]\n",
        "  groupb = groupbb.drop(columns=[column])\n",
        "  themes = groupa.columns.tolist()\n",
        "  output=[] \n",
        "\n",
        "  for theme in themes:\n",
        "    output.append([theme, groupa[theme].mean(), groupb[theme].mean(), \n",
        "                   stats.ttest_ind(groupa[theme], groupb[theme], nan_policy='omit')])\n",
        "\n",
        "  output2 = pd.DataFrame([[i[0], i[1], i[2], i[3][0], i[3][1]] for i in output],\n",
        "                  columns=['Variable', 'Group A Mean', 'Group B Mean', 'T-Statistic', 'P-Value'])\n",
        "\n",
        "  return output2.sort_values(by=['P-Value'])"
      ],
      "execution_count": 0,
      "outputs": []
    },
    {
      "cell_type": "markdown",
      "metadata": {
        "id": "bet4aDHXIKNt",
        "colab_type": "text"
      },
      "source": [
        "## 2. Fill in the parenthases below:\n",
        "a. **Do not alter t_test(df,** or it will break everything. Only replace the three items in quotations, and be sure to keep the quotation marks.\n",
        "\n",
        "b. Fill in `'COLUMN_NAME_HERE'` with the header for the column that lists which dependent variable group the row belongs to.\n",
        "\n",
        "c. Fill in `'GROUP_A_NAME_HERE'` with the name of the first group whose means you'd like to test.\n",
        "\n",
        "d. Fill in `'GROUP_B_NAME_HERE'` with the name of the second group whose means you'd like to test.\n",
        "\n",
        "**It is better to copy and paste** because if any of these three items are not **exactly** as they appear in the csv you uploaded, it will not run.\n",
        "\n",
        "## 3. Run CELL #4"
      ]
    },
    {
      "cell_type": "code",
      "metadata": {
        "id": "_x4rEho1CovY",
        "colab_type": "code",
        "colab": {}
      },
      "source": [
        "# CELL 4\n",
        "t_test(df, 'COLUMN_NAME_HERE', 'GROUP_A_NAME_HERE', 'GROUP_B_NAME_HERE')"
      ],
      "execution_count": 0,
      "outputs": []
    },
    {
      "cell_type": "markdown",
      "metadata": {
        "id": "9NwMU-BvwPrk",
        "colab_type": "text"
      },
      "source": [
        "# How to Run Linear Regression\n",
        "### 1. Run CELL #5. \n",
        "(It will seem like nothing happened when you ran CELL #5 but don't worry, important things happened behind the scenes. If there's a number where there was previously a blank [   ], you know it ran correctly).\n"
      ]
    },
    {
      "cell_type": "code",
      "metadata": {
        "id": "vqDaLyi4xvoi",
        "colab_type": "code",
        "colab": {}
      },
      "source": [
        "# CELL 5\n",
        "\n",
        "def lin_reg(dataframe, features, target):\n",
        "  model = LinearRegression()\n",
        "  x_train = dataframe[features]\n",
        "  y_train = dataframe[target]\n",
        "  model.fit(x_train, y_train)\n",
        "  y_pred = model.predict(x_train)\n",
        "  mse = mean_squared_error(y_train, y_pred)\n",
        "\n",
        "  print(\"Features Used:\")\n",
        "  print(features)\n",
        "  print('\\n')\n",
        "  print(\"Model R^2:\")\n",
        "  print(r2_score(y_train, y_pred))\n",
        "  print('\\n')\n",
        "  print('Model Intercept:')\n",
        "  print(model.intercept_)\n",
        "  print('\\n')\n",
        "  print(\"Model Coefficients:\")\n",
        "  print(model.coef_)\n",
        "  print('\\n')\n",
        "  print(\"Mean Squared Error:\")\n",
        "  print(mse)\n",
        "  print('\\n')\n",
        "  print(\"Root Mean Squared Error:\")\n",
        "  print(np.sqrt(mse))\n",
        "  print('\\n')\n",
        "  print(\"Mean Absolute Error\")\n",
        "  print(mean_absolute_error(y_train, y_pred))\n",
        "  print('\\n')"
      ],
      "execution_count": 0,
      "outputs": []
    },
    {
      "cell_type": "markdown",
      "metadata": {
        "id": "PZ95F0zN6wYV",
        "colab_type": "text"
      },
      "source": [
        "## 2. Fill in the parenthases below:\n",
        "a. **Do not alter `lin_reg(df, independent_variables, dependent_variables)`** or it will break everything. Only replace the items in quotations inside the brackets, and be sure to keep the quotation marks.\n",
        "\n",
        "b. Fill in `'DEPENDENT_VARIABLE_HERE'` with the header for the column that contains values for your dependent variable.\n",
        "\n",
        "c. Fill in `'INDEPEDENT_VARIABLE_1_HERE'` with the header name for the column containing the first independent variable you would like to add to your linear regression model. If you only have one independent variable, delete `'INDEPENDENT_VARIABLE_2_HERE'`\n",
        "\n",
        "*If you only have one independent varialbe it should look like this:\n",
        "\n",
        "```\n",
        "# independent_variables = ['HEADER_NAME']\n",
        "```\n",
        "\n",
        "\n",
        "d. If you have two independent variables, fill in `'INDEPENDENT_VARIABLE_2_HERE'` with the column header name for your second independent variable.\n",
        "\n",
        "e. If you have more than two independent variables, add them to the list by seperating them with a comma and putting them in parenthases. For example, four independent variables would look like this:\n",
        "\n",
        "\n",
        "\n",
        "```\n",
        "# independent_variables = ['HEADER_NAME_1', 'HEADER_NAME_2', 'HEADER_NAME_3', 'HEADER_NAME_4',]\n",
        "```\n",
        "\n",
        "You can include as many independent variables as you'd like.\n",
        "\n",
        "\n",
        "\n",
        "**It is better to copy and paste** because if any column header is not entered **exactly** as it appears in the csv you uploaded, it will not run.\n",
        "\n",
        "**Only NUMERIC values** accepted for both **independent and dependent variables.**\n",
        "\n",
        "## 3. Run CELL #6"
      ]
    },
    {
      "cell_type": "code",
      "metadata": {
        "id": "0fNTNaHE2bAK",
        "colab_type": "code",
        "colab": {}
      },
      "source": [
        "# CELL 6\n",
        "\n",
        "dependent_variable = 'DEPENDENT_VARIABLE_HERE'\n",
        "\n",
        "independent_variables = ['INDEPEDENT_VARIABLE_1_HERE', 'INDEPENDENT_VARIABLE_2_HERE']\n",
        "\n",
        "lin_reg(df, independent_variables, dependent_variable)"
      ],
      "execution_count": 0,
      "outputs": []
    },
    {
      "cell_type": "markdown",
      "metadata": {
        "id": "GMbaA7h_9V3D",
        "colab_type": "text"
      },
      "source": [
        "# For a linear regression graph with one independent and one dependent variable: \n",
        "1. Fill in x_axis by replacing `'DEPENDENT_VARIABLE_HERE'` with the column header for your dependent variable.\n",
        "2. Fill in y_axis by replacing `'INDEPEDENT_VARIABLE_HERE'` with the column header for your independent variable.\n",
        "3. Run CELL #7\n",
        "\n",
        "You will get an interactive graph. Hover over the line to see the formula for your ordinary least squares line and your r^2. Hover over dots to or other parts of the graph to see the predited value for a given point.\n",
        "\n",
        "Use the camera-looking icon that appears when you hover over the top right-hand corner to download a png of your graph."
      ]
    },
    {
      "cell_type": "code",
      "metadata": {
        "id": "i90YBG7y4Kzy",
        "colab_type": "code",
        "colab": {}
      },
      "source": [
        "# CELL 7\n",
        "\n",
        "x_axis = 'DEPENDENT_VARIABLE_HERE'\n",
        "\n",
        "y_axis = 'INDEPEDENT_VARIABLE_HERE'\n",
        "\n",
        "px.scatter(df, x=x_axis, y=y_axis, trendline='ols')"
      ],
      "execution_count": 0,
      "outputs": []
    },
    {
      "cell_type": "markdown",
      "metadata": {
        "id": "CxChaWw4wKGQ",
        "colab_type": "text"
      },
      "source": [
        "# To Run Chi^2\n",
        "\n",
        "## 1. Run CELL #8 below. \n",
        "(It will seem like nothing happened when you ran CELL #8 but don't worry, important things happened behind the scenes. If there's a number where there was previously a blank [   ], you know it ran correctly)."
      ]
    },
    {
      "cell_type": "code",
      "metadata": {
        "id": "B7vlns1zDeyH",
        "colab_type": "code",
        "colab": {}
      },
      "source": [
        "# CELL 8\n",
        "\n",
        "def Chi2_loop(df, dependent_var):\n",
        "  columns = df.columns.tolist()\n",
        "  columns.remove(dependent_var)\n",
        "  output=[]\n",
        "\n",
        "  for column in columns:\n",
        "    crosstab = pd.crosstab(df[dependent_var], df[column])\n",
        "    crosstab = crosstab.values\n",
        "    chi2, p_value, dof, expected = stats.chi2_contingency(crosstab)\n",
        "    output.append([column, chi2, p_value])\n",
        "  \n",
        "  df2 = pd.DataFrame([[i[0], i[1], i[2]] for i in output],\n",
        "                  columns=['Independent Variable', 'Chi^2', 'P-Value'])\n",
        "\n",
        "  return df2.sort_values(by=['P-Value'])"
      ],
      "execution_count": 0,
      "outputs": []
    },
    {
      "cell_type": "markdown",
      "metadata": {
        "id": "lY_9ZGvjF_cK",
        "colab_type": "text"
      },
      "source": [
        "## 2. Fill in your dependent variable.\n",
        "- Replace `'DEPENDENT_VARIABLE'` with the column header of the variable you'd like to run a chi^2 test with.\n",
        "\n",
        "**It is better to copy and paste** because if any column header is not entered **exactly** as it appears in the csv you uploaded, it will not run.\n",
        "\n",
        "## 3. Run CELL #9."
      ]
    },
    {
      "cell_type": "code",
      "metadata": {
        "id": "ZcCBR_UWFJ6l",
        "colab_type": "code",
        "outputId": "7f4c869a-7745-462f-c22e-1093a1e697de",
        "colab": {
          "base_uri": "https://localhost:8080/",
          "height": 175
        }
      },
      "source": [
        "# CELL 9\n",
        "\n",
        "Chi2_loop(df, 'DEPENDENT_VARIABLE')"
      ],
      "execution_count": 0,
      "outputs": [
        {
          "output_type": "execute_result",
          "data": {
            "text/html": [
              "<div>\n",
              "<style scoped>\n",
              "    .dataframe tbody tr th:only-of-type {\n",
              "        vertical-align: middle;\n",
              "    }\n",
              "\n",
              "    .dataframe tbody tr th {\n",
              "        vertical-align: top;\n",
              "    }\n",
              "\n",
              "    .dataframe thead th {\n",
              "        text-align: right;\n",
              "    }\n",
              "</style>\n",
              "<table border=\"1\" class=\"dataframe\">\n",
              "  <thead>\n",
              "    <tr style=\"text-align: right;\">\n",
              "      <th></th>\n",
              "      <th>Independent Variable</th>\n",
              "      <th>Chi^2</th>\n",
              "      <th>P-Value</th>\n",
              "    </tr>\n",
              "  </thead>\n",
              "  <tbody>\n",
              "    <tr>\n",
              "      <th>3</th>\n",
              "      <td>PetalWidthCm</td>\n",
              "      <td>271.750000</td>\n",
              "      <td>2.164810e-35</td>\n",
              "    </tr>\n",
              "    <tr>\n",
              "      <th>2</th>\n",
              "      <td>PetalLengthCm</td>\n",
              "      <td>271.800000</td>\n",
              "      <td>1.177567e-21</td>\n",
              "    </tr>\n",
              "    <tr>\n",
              "      <th>0</th>\n",
              "      <td>SepalLengthCm</td>\n",
              "      <td>156.266667</td>\n",
              "      <td>6.665987e-09</td>\n",
              "    </tr>\n",
              "    <tr>\n",
              "      <th>1</th>\n",
              "      <td>SepalWidthCm</td>\n",
              "      <td>88.364469</td>\n",
              "      <td>8.303948e-05</td>\n",
              "    </tr>\n",
              "  </tbody>\n",
              "</table>\n",
              "</div>"
            ],
            "text/plain": [
              "  Independent Variable       Chi^2       P-Value\n",
              "3         PetalWidthCm  271.750000  2.164810e-35\n",
              "2        PetalLengthCm  271.800000  1.177567e-21\n",
              "0        SepalLengthCm  156.266667  6.665987e-09\n",
              "1         SepalWidthCm   88.364469  8.303948e-05"
            ]
          },
          "metadata": {
            "tags": []
          },
          "execution_count": 9
        }
      ]
    },
    {
      "cell_type": "markdown",
      "metadata": {
        "id": "CvL7IqiwFY4c",
        "colab_type": "text"
      },
      "source": [
        "# Thanks for using our basic statistics colab notebook! If you have any issues, comments, or requests for features, please email Katie at katie@ameliormate.com"
      ]
    }
  ]
}