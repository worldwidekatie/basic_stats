{
  "nbformat": 4,
  "nbformat_minor": 0,
  "metadata": {
    "colab": {
      "name": "Basic_Stats.ipynb",
      "provenance": []
    },
    "kernelspec": {
      "name": "python3",
      "display_name": "Python 3"
    }
  },
  "cells": [
    {
      "cell_type": "markdown",
      "metadata": {
        "id": "yWQHaovZs_hf",
        "colab_type": "text"
      },
      "source": [
        "# Basic Statistics\n",
        "\n",
        "The purpose of this notebook is to provide academics without access to their normal statistical software a low-code option for running their most basic and popular statistical tests."
      ]
    },
    {
      "cell_type": "code",
      "metadata": {
        "id": "pqnA3OV_s7Oi",
        "colab_type": "code",
        "colab": {}
      },
      "source": [
        ""
      ],
      "execution_count": 0,
      "outputs": []
    }
  ]
}