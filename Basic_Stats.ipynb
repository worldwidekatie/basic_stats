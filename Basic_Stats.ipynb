{
  "nbformat": 4,
  "nbformat_minor": 0,
  "metadata": {
    "colab": {
      "name": "Basic_Stats.ipynb",
      "provenance": [],
      "authorship_tag": "ABX9TyO6Oh5QbWTJfTMDy5lAC/k8",
      "include_colab_link": true
    },
    "kernelspec": {
      "name": "python3",
      "display_name": "Python 3"
    }
  },
  "cells": [
    {
      "cell_type": "markdown",
      "metadata": {
        "id": "view-in-github",
        "colab_type": "text"
      },
      "source": [
        "<a href=\"https://colab.research.google.com/github/worldwidekatie/basic_stats/blob/master/Basic_Stats.ipynb\" target=\"_parent\"><img src=\"https://colab.research.google.com/assets/colab-badge.svg\" alt=\"Open In Colab\"/></a>"
      ]
    },
    {
      "cell_type": "markdown",
      "metadata": {
        "id": "yWQHaovZs_hf",
        "colab_type": "text"
      },
      "source": [
        "# Basic Statistics\n",
        "\n",
        "The purpose of this notebook is to provide academics without access to their normal statistical software a low-code option for running their most basic and popular statistical tests.\n",
        "\n",
        "## **How to Get Started with this Notebook:**\n",
        "\n",
        "## Start by making your own copy of the notebook by going to File -> Save a copy in drive...\n",
        "\n",
        "## **How to Upload Your csv file**\n",
        "\n",
        "### 1. Run CELL #1 by pushing the play button that appears when you hover over the [ ] in the upper left-hand corner.\n",
        "\n",
        "### 2. Click the \"Choose Files\" button (which appears after you've hit the \"play\" button) and choose the csv you want to upload from your computer."
      ]
    },
    {
      "cell_type": "code",
      "metadata": {
        "id": "pqnA3OV_s7Oi",
        "colab_type": "code",
        "colab": {}
      },
      "source": [
        "# CELL #1\n",
        "import pandas as pd\n",
        "import numpy as np\n",
        "from scipy import stats\n",
        "from google.colab import files\n",
        "files.upload()"
      ],
      "execution_count": 0,
      "outputs": []
    },
    {
      "cell_type": "markdown",
      "metadata": {
        "id": "I-Fcp-x8D9ZD",
        "colab_type": "text"
      },
      "source": [
        "### 3. Copy and paste the name of your csv inside the parentheses  in CELL #2 then run CELL #2. \n",
        "\n",
        "**NOTE** It is important to use a csv that already has headers. The following tests will not work if your csv does not already have headers. If your file has loaded correctly, you will see the headers and the first few rows below CELL #2 once you've run it."
      ]
    },
    {
      "cell_type": "code",
      "metadata": {
        "id": "jesALKELy5GN",
        "colab_type": "code",
        "colab": {}
      },
      "source": [
        "# CELL #2\n",
        "df = pd.read_csv('YOUR_CSV_FILE_NAME_HERE.csv')\n",
        "df.head()"
      ],
      "execution_count": 0,
      "outputs": []
    },
    {
      "cell_type": "markdown",
      "metadata": {
        "id": "OO5EIfkuwGqs",
        "colab_type": "text"
      },
      "source": [
        "# How to run t-tests:\n",
        "**NOTE: Make sure every column (except the column for your dependent variable) contains only numeric values or it will not work.**\n",
        "### 1. Run CELL #3 then go to the step #2.\n",
        "(It will seem like nothing happened when you ran CELL #3 but don't worry, important things happened behind the scenes. If there's a number where there weas previously a blank [   ], you know it ran correctly).\n"
      ]
    },
    {
      "cell_type": "code",
      "metadata": {
        "id": "d7cRJHUA55H4",
        "colab_type": "code",
        "colab": {}
      },
      "source": [
        "# CELL #3\n",
        "def t_test(dataframe, column, group_a, group_b):\n",
        "  groupaa = dataframe[dataframe[column]==group_a]\n",
        "  groupa = groupaa.drop(columns=[column])\n",
        "  groupbb = dataframe[dataframe[column]==group_b]\n",
        "  groupb = groupbb.drop(columns=[column])\n",
        "  themes = groupa.columns.tolist()\n",
        "  output=[] \n",
        "\n",
        "  for theme in themes:\n",
        "    output.append([theme, groupa[theme].mean(), groupb[theme].mean(), \n",
        "                   stats.ttest_ind(groupa[theme], groupb[theme], nan_policy='omit')])\n",
        "\n",
        "  output2 = pd.DataFrame([[i[0], i[1], i[2], i[3][0], i[3][1]] for i in output],\n",
        "                  columns=['Variable', 'Group A Mean', 'Group B Mean', 'T-Statistic', 'P-Value'])\n",
        "\n",
        "  return output2.sort_values(by=['P-Value'])"
      ],
      "execution_count": 0,
      "outputs": []
    },
    {
      "cell_type": "markdown",
      "metadata": {
        "id": "bet4aDHXIKNt",
        "colab_type": "text"
      },
      "source": [
        "## 2. Fill in the parenthases below:\n",
        "a. **Do not alter t_test(df,** or it will break everything. Only replace the three items in quotations, and be sure to keep the quotation marks.\n",
        "\n",
        "b. Fill in 'COLUMN_NAME_HERE' with the header for the column that lists which dependent variable group the row belongs to.\n",
        "\n",
        "c. Fill in 'GROUP_A_NAME_HERE' with the name of the first group whose means you'd like to test.\n",
        "\n",
        "d. Fill in 'GROUP_B_NAME_HERE' with the name of the second group whose means you'd like to test.\n",
        "\n",
        "**It is better to copy and paste** because if any of these three items are not **exactly** as they appear in the csv you uploaded, it will not run.\n",
        "\n",
        "## 3. Run CELL #4"
      ]
    },
    {
      "cell_type": "code",
      "metadata": {
        "id": "_x4rEho1CovY",
        "colab_type": "code",
        "colab": {}
      },
      "source": [
        "# CELL 4\n",
        "t_test(df, 'COLUMN_NAME_HERE', 'GROUP_A_NAME_HERE', 'GROUP_B_NAME_HERE')"
      ],
      "execution_count": 0,
      "outputs": []
    },
    {
      "cell_type": "markdown",
      "metadata": {
        "id": "CxChaWw4wKGQ",
        "colab_type": "text"
      },
      "source": [
        "## Chi^2\n",
        "\n",
        ".... Coming Soon!"
      ]
    },
    {
      "cell_type": "code",
      "metadata": {
        "id": "vqDaLyi4xvoi",
        "colab_type": "code",
        "colab": {}
      },
      "source": [
        ""
      ],
      "execution_count": 0,
      "outputs": []
    },
    {
      "cell_type": "markdown",
      "metadata": {
        "id": "9NwMU-BvwPrk",
        "colab_type": "text"
      },
      "source": [
        "## Linear Regression\n",
        ".... Coming Soon!"
      ]
    },
    {
      "cell_type": "code",
      "metadata": {
        "id": "MeaY5hAiwSZm",
        "colab_type": "code",
        "colab": {}
      },
      "source": [
        ""
      ],
      "execution_count": 0,
      "outputs": []
    },
    {
      "cell_type": "markdown",
      "metadata": {
        "id": "DVOPtcUTxnpe",
        "colab_type": "text"
      },
      "source": [
        "## Download"
      ]
    },
    {
      "cell_type": "code",
      "metadata": {
        "id": "kUwxDnKXxqa5",
        "colab_type": "code",
        "colab": {}
      },
      "source": [
        ""
      ],
      "execution_count": 0,
      "outputs": []
    }
  ]
}